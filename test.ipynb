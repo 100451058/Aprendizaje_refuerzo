{
 "cells": [
  {
   "cell_type": "code",
   "execution_count": 22,
   "metadata": {},
   "outputs": [],
   "source": [
    "import numpy as np\n",
    "import matplotlib.pyplot as plt\n",
    "\n",
    "import random\n",
    "from numpy.random import randint as rnd\n",
    "\n",
    "MAZE_WIDTH: int  = 8\n",
    "MAZE_HEIGHT: int = 8 "
   ]
  },
  {
   "cell_type": "code",
   "execution_count": 3,
   "metadata": {},
   "outputs": [],
   "source": [
    "# start\n",
    "remaining = MAZE_HEIGHT * MAZE_WIDTH - 1\n",
    "\n",
    "directions = [(-1, 0), (1, 0), (0, -1), (0, 1)]\n",
    "def choose_direction(): \n",
    "    dirr = rnd(4)\n",
    "    nx, ny = directions[dirr]\n",
    "    return dirr, (nx, ny)\n",
    "\n",
    "def check_border(curr, nx, ny, width, height):\n",
    "    currx = curr[1] + nx\n",
    "    curry = curr[0] + ny\n",
    "    return (currx >= 0) and (currx < width) and (curry < height) and (curry >= 0)"
   ]
  },
  {
   "cell_type": "code",
   "execution_count": 39,
   "metadata": {},
   "outputs": [],
   "source": [
    "\n",
    "def wilson_maze(width, height):\n",
    "    \"\"\"\n",
    "    Generate a maze using Wilson's algorithm with fixed start and end points.\n",
    "\n",
    "    :param width: Width of the maze grid (number of cells horizontally).\n",
    "    :param height: Height of the maze grid (number of cells vertically).\n",
    "    :return: A 2D NumPy array representing the maze, where 0 = wall, 1 = passage.\n",
    "    \"\"\"\n",
    "    # Initialize maze grid with walls\n",
    "    maze = np.zeros((height * 2 + 1, width * 2 + 1), dtype=np.uint8)\n",
    "\n",
    "    # Fixed start and end points\n",
    "    start = (0, 0)\n",
    "    end = (width - 1, height - 1)\n",
    "\n",
    "    # Initialize visited set with the start point\n",
    "    visited = {start}\n",
    "\n",
    "    # Directions: (dy, dx)\n",
    "    directions = {\n",
    "        'N': (-1, 0),\n",
    "        'S': (1, 0),\n",
    "        'E': (0, 1),\n",
    "        'W': (0, -1)\n",
    "    }\n",
    "\n",
    "    def add_to_maze(path):\n",
    "        \"\"\"Helper function to add a path to the maze.\"\"\"\n",
    "        for i in range(len(path) - 1):\n",
    "            x1, y1 = path[i]\n",
    "            x2, y2 = path[i + 1]\n",
    "\n",
    "            # Mark the current and next cells as passages\n",
    "            maze[y1 * 2 + 1, x1 * 2 + 1] = 1\n",
    "            maze[y2 * 2 + 1, x2 * 2 + 1] = 1\n",
    "\n",
    "            # Mark the wall between cells as passage\n",
    "            wall_x = x1 + x2 + 1\n",
    "            wall_y = y1 + y2 + 1\n",
    "            maze[wall_y, wall_x] = 1\n",
    "\n",
    "    # Generate the maze\n",
    "    while len(visited) < width * height:\n",
    "        # Start a random walk from an unvisited cell\n",
    "        current_cell = None\n",
    "        while current_cell is None or current_cell in visited:\n",
    "            current_cell = (random.randint(0, width - 1), random.randint(0, height - 1))\n",
    "\n",
    "        path = [current_cell]\n",
    "        while path[-1] not in visited:\n",
    "            cx, cy = path[-1]\n",
    "            direction = random.choice(list(directions.values()))\n",
    "            nx, ny = cx + direction[1], cy + direction[0]\n",
    "\n",
    "            # Ensure the next cell is within bounds\n",
    "            if 0 <= nx < width and 0 <= ny < height:\n",
    "                path.append((nx, ny))\n",
    "\n",
    "        # Erase loops in the random walk\n",
    "        no_loops_path = []\n",
    "        seen = set()\n",
    "        for cell in path:\n",
    "            if cell in seen:\n",
    "                # Remove the loop\n",
    "                while no_loops_path[-1] != cell:\n",
    "                    seen.remove(no_loops_path.pop())\n",
    "            else:\n",
    "                seen.add(cell)\n",
    "                no_loops_path.append(cell)\n",
    "\n",
    "        # Add the processed path to the maze and the visited set\n",
    "        visited.update(no_loops_path)\n",
    "        add_to_maze(no_loops_path)\n",
    "\n",
    "    # Ensure the start and end points are open\n",
    "    maze[start[1] * 2 + 1, start[0] * 2 + 1] = 2\n",
    "    maze[end[1] * 2 + 1, end[0] * 2 + 1] = 3\n",
    "\n",
    "    return maze"
   ]
  },
  {
   "cell_type": "code",
   "execution_count": 42,
   "metadata": {},
   "outputs": [
    {
     "data": {
      "image/png": "[encoded data removed]",
      "text/plain": [
       "<Figure size 1000x1000 with 1 Axes>"
      ]
     },
     "metadata": {},
     "output_type": "display_data"
    }
   ],
   "source": [
    "from matplotlib.colors import ListedColormap\n",
    "cmap = ListedColormap(['black', 'white', 'green', 'red'])\n",
    "\n",
    "# Generate and display the maze\n",
    "width, height = 32, 16  # Dimensions of the maze\n",
    "maze = wilson_maze(width, height)\n",
    "\n",
    "plt.figure(figsize=(10, 10))\n",
    "plt.imshow(maze, cmap=cmap)\n",
    "plt.axis('off')\n",
    "plt.title(\"Wilson's Maze with Fixed Start and End Points\")\n",
    "plt.show()"
   ]
  },
  {
   "cell_type": "code",
   "execution_count": null,
   "metadata": {},
   "outputs": [],
   "source": []
  },
  {
   "cell_type": "code",
   "execution_count": 107,
   "metadata": {},
   "outputs": [
    {
     "name": "stdout",
     "output_type": "stream",
     "text": [
      "Path Found\n"
     ]
    }
   ],
   "source": [
    "import heapq\n",
    "\n",
    "def get_optimal_path(maze, start, end):\n",
    "    start, end = tuple(start), tuple(end)\n",
    "\n",
    "    possible_movement = [\n",
    "        [-1,  0],\n",
    "        [ 1,  0],\n",
    "        [ 0, -1],\n",
    "        [ 0,  1]\n",
    "    ]\n",
    "\n",
    "    def h(pos): return abs(end[0] - pos[0]) + abs(end[1] - pos[1])\n",
    "    def is_valid(npos):\n",
    "        y, x = npos\n",
    "        border_check = 0 <= y < maze.shape[0] and 0 <= x < maze.shape[1]\n",
    "        return border_check and maze[y, x] != 0\n",
    "\n",
    "    openSet  = []\n",
    "    closeSet = {}\n",
    "    scores   = {tuple(start): 0}\n",
    "    heapq.heappush(openSet, (0, start))\n",
    "\n",
    "    def build_path(current, closeSet):\n",
    "        path = []\n",
    "        while current in closeSet:\n",
    "            path.append(current)\n",
    "            current = closeSet[current]\n",
    "        path.append(start)\n",
    "        path.reverse()\n",
    "        return path\n",
    "    \n",
    "    while len(openSet) > 0: \n",
    "        cg, cpos = heapq.heappop(openSet)\n",
    "        if cpos == end:\n",
    "            print(\"Path Found\")\n",
    "            return build_path(cpos, closeSet)\n",
    "\n",
    "        for dirr in possible_movement:\n",
    "            npos = (cpos[0] + dirr[0], cpos[1] + dirr[1])\n",
    "            if not is_valid(npos): continue\n",
    "            \n",
    "            tentative = cg + 1\n",
    "            if tuple(npos) not in scores or tentative < cg:\n",
    "                scores[tuple(npos)] = tentative\n",
    "                heapq.heappush(openSet, (tentative + h(npos), npos))\n",
    "                closeSet[tuple(npos)] = cpos\n",
    "\n",
    "    return []\n",
    "\n",
    "optim = get_optimal_path(maze, np.array((1, 1)), np.array([31, 63]))"
   ]
  },
  {
   "cell_type": "code",
   "execution_count": 116,
   "metadata": {},
   "outputs": [
    {
     "data": {
      "image/png": "[encoded data removed]",
      "text/plain": [
       "<Figure size 1800x900 with 2 Axes>"
      ]
     },
     "metadata": {},
     "output_type": "display_data"
    }
   ],
   "source": [
    "_, ax = plt.subplots(2, 1, figsize = (18,  9))\n",
    "cmap = ListedColormap(['black', 'white', 'green', 'red', 'yellow'])\n",
    "ax[0].imshow(maze, cmap=cmap)\n",
    "ax[0].axis('off')\n",
    "\n",
    "solved_maze = maze.copy()\n",
    "for (y, x) in optim: \n",
    "    if y == 1 and x == 1: continue\n",
    "    if y == (solved_maze.shape[0] - 2) and x == (solved_maze.shape[1] - 2): continue\n",
    "    solved_maze[y, x] = 4 \n",
    "\n",
    "ax[1].imshow(solved_maze, cmap=cmap)\n",
    "ax[1].axis('off')\n",
    "\n",
    "\n",
    "plt.show()"
   ]
  }
 ],
 "metadata": {
  "kernelspec": {
   "display_name": "base-rl",
   "language": "python",
   "name": "python3"
  },
  "language_info": {
   "codemirror_mode": {
    "name": "ipython",
    "version": 3
   },
   "file_extension": ".py",
   "mimetype": "text/x-python",
   "name": "python",
   "nbconvert_exporter": "python",
   "pygments_lexer": "ipython3",
   "version": "3.10.15"
  }
 },
 "nbformat": 4,
 "nbformat_minor": 2
}
